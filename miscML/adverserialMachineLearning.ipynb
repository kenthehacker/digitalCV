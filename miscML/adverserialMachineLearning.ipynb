{
 "cells": [
  {
   "cell_type": "code",
   "execution_count": 1,
   "id": "ee36d9f6",
   "metadata": {},
   "outputs": [],
   "source": [
    "import tensorflow as tf\n",
    "import matplotlib.pyplot as plt"
   ]
  },
  {
   "cell_type": "code",
   "execution_count": 69,
   "id": "950b9942",
   "metadata": {},
   "outputs": [],
   "source": [
    "(x_train, y_train), (x_test, y_test) = tf.keras.datasets.mnist.load_data()"
   ]
  },
  {
   "cell_type": "code",
   "execution_count": 70,
   "id": "b7fbfae3",
   "metadata": {},
   "outputs": [
    {
     "data": {
      "text/plain": [
       "<matplotlib.image.AxesImage at 0x2ffb24d60>"
      ]
     },
     "execution_count": 70,
     "metadata": {},
     "output_type": "execute_result"
    },
    {
     "data": {
      "image/png": "[encoded data removed]",
      "text/plain": [
       "<Figure size 432x288 with 1 Axes>"
      ]
     },
     "metadata": {
      "needs_background": "light"
     },
     "output_type": "display_data"
    }
   ],
   "source": [
    "tmp = x_train[0]\n",
    "pix = tmp.reshape((28,28))\n",
    "plt.imshow(pix,cmap='gray')"
   ]
  },
  {
   "cell_type": "code",
   "execution_count": 71,
   "id": "b0739fed",
   "metadata": {},
   "outputs": [
    {
     "name": "stdout",
     "output_type": "stream",
     "text": [
      "60000\n",
      "10000\n"
     ]
    }
   ],
   "source": [
    "print(len(x_train))\n",
    "print(len(x_test))"
   ]
  },
  {
   "cell_type": "code",
   "execution_count": 72,
   "id": "7895dbf4",
   "metadata": {},
   "outputs": [
    {
     "data": {
      "text/plain": [
       "<matplotlib.image.AxesImage at 0x302b8f100>"
      ]
     },
     "execution_count": 72,
     "metadata": {},
     "output_type": "execute_result"
    },
    {
     "data": {
      "image/png": "[encoded data removed]",
      "text/plain": [
       "<Figure size 432x288 with 1 Axes>"
      ]
     },
     "metadata": {
      "needs_background": "light"
     },
     "output_type": "display_data"
    }
   ],
   "source": [
    "tmp2 = x_train[0]/255\n",
    "pix2 = tmp2.reshape((28,28))\n",
    "plt.imshow(pix2,cmap='gray')"
   ]
  },
  {
   "cell_type": "code",
   "execution_count": 73,
   "id": "238805bf",
   "metadata": {},
   "outputs": [],
   "source": [
    "x_train = x_train/255.0\n",
    "x_test = x_test / 255.0"
   ]
  },
  {
   "cell_type": "code",
   "execution_count": 74,
   "id": "7db9ad60",
   "metadata": {},
   "outputs": [
    {
     "name": "stdout",
     "output_type": "stream",
     "text": [
      "Num GPUs Available:  1\n"
     ]
    }
   ],
   "source": [
    "print(\"Num GPUs Available: \", len(tf.config.experimental.list_physical_devices('GPU')))"
   ]
  },
  {
   "cell_type": "code",
   "execution_count": 141,
   "id": "6f4fc23b",
   "metadata": {},
   "outputs": [],
   "source": [
    "def trainModel():\n",
    "\n",
    "    model = tf.keras.models.Sequential()\n",
    "    model.add(tf.keras.layers.Input(shape=(28, 28)))\n",
    "    #model.add(tf.keras.layers.Conv2D(32, kernel_size=(3, 3),activation='relu'))\n",
    "    #model.add(tf.keras.layers.Conv2D(64, kernel_size=(3, 3),activation='relu'))\n",
    "    model.add(tf.keras.layers.Reshape(target_shape=(28, 28, 1)))\n",
    "    model.add(tf.keras.layers.Conv2D(filters=32, kernel_size=(4, 4)))\n",
    "    model.add(tf.keras.layers.Conv2D(filters=64, kernel_size=(4, 4)))\n",
    "    model.add(tf.keras.layers.MaxPooling2D((4, 4)))\n",
    "    model.add(tf.keras.layers.Flatten())\n",
    "    model.add(tf.keras.layers.Dense(128, activation='relu'))\n",
    "    model.add(tf.keras.layers.Dense(10, activation=\"softmax\"))\n",
    "\n",
    "    '''\n",
    "    model = tf.keras.models.Sequential([\n",
    "      tf.keras.layers.Conv2D(32, kernel_size=(3, 3),\n",
    "                     activation='relu'),\n",
    "      tf.keras.layers.Conv2D(64, kernel_size=(3, 3),\n",
    "                     activation='relu'),\n",
    "      tf.keras.layers.MaxPooling2D(pool_size=(2, 2)),\n",
    "      tf.keras.layers.Flatten(),\n",
    "      tf.keras.layers.Dense(128, activation='relu'),\n",
    "      tf.keras.layers.Dense(10, activation='softmax')\n",
    "    ])\n",
    "    '''\n",
    "    model.build()\n",
    "    model.compile(optimizer='SGD',\n",
    "        loss=\"sparse_categorical_crossentropy\",\n",
    "        metrics=[\"accuracy\"])\n",
    "    \n",
    "    model.fit(\n",
    "        x_train,\n",
    "        y_train,\n",
    "        epochs=3,\n",
    "        validation_data=(x_test, y_test),\n",
    "    )\n",
    "    return model"
   ]
  },
  {
   "cell_type": "code",
   "execution_count": 142,
   "id": "c8782858",
   "metadata": {},
   "outputs": [
    {
     "name": "stdout",
     "output_type": "stream",
     "text": [
      "Epoch 1/3\n",
      "   7/1875 [..............................] - ETA: 18s - loss: 2.2694 - accuracy: 0.1562 "
     ]
    },
    {
     "name": "stderr",
     "output_type": "stream",
     "text": [
      "2022-12-05 23:26:00.087150: I tensorflow/core/grappler/optimizers/custom_graph_optimizer_registry.cc:114] Plugin optimizer for device_type GPU is enabled.\n"
     ]
    },
    {
     "name": "stdout",
     "output_type": "stream",
     "text": [
      "1875/1875 [==============================] - ETA: 0s - loss: 0.3941 - accuracy: 0.8828"
     ]
    },
    {
     "name": "stderr",
     "output_type": "stream",
     "text": [
      "2022-12-05 23:26:16.156280: I tensorflow/core/grappler/optimizers/custom_graph_optimizer_registry.cc:114] Plugin optimizer for device_type GPU is enabled.\n"
     ]
    },
    {
     "name": "stdout",
     "output_type": "stream",
     "text": [
      "1875/1875 [==============================] - 18s 9ms/step - loss: 0.3941 - accuracy: 0.8828 - val_loss: 0.1269 - val_accuracy: 0.9621\n",
      "Epoch 2/3\n",
      "1875/1875 [==============================] - 17s 9ms/step - loss: 0.1124 - accuracy: 0.9663 - val_loss: 0.0777 - val_accuracy: 0.9756\n",
      "Epoch 3/3\n",
      "1875/1875 [==============================] - 16s 9ms/step - loss: 0.0800 - accuracy: 0.9756 - val_loss: 0.0626 - val_accuracy: 0.9807\n"
     ]
    }
   ],
   "source": [
    "model = trainModel()"
   ]
  },
  {
   "cell_type": "markdown",
   "id": "ccf2c524",
   "metadata": {},
   "source": [
    "Let's Pull a random test and see the result!"
   ]
  },
  {
   "cell_type": "code",
   "execution_count": 77,
   "id": "b73d3ed2",
   "metadata": {},
   "outputs": [],
   "source": [
    "import numpy as np"
   ]
  },
  {
   "cell_type": "code",
   "execution_count": 78,
   "id": "dd1fdcf6",
   "metadata": {},
   "outputs": [
    {
     "data": {
      "text/plain": [
       "<matplotlib.image.AxesImage at 0x304a8d970>"
      ]
     },
     "execution_count": 78,
     "metadata": {},
     "output_type": "execute_result"
    },
    {
     "data": {
      "image/png": "[encoded data removed]",
      "text/plain": [
       "<Figure size 432x288 with 1 Axes>"
      ]
     },
     "metadata": {
      "needs_background": "light"
     },
     "output_type": "display_data"
    }
   ],
   "source": [
    "randomSample = x_test[np.random.randint(0, x_test.shape[0]), ...]\n",
    "plt.imshow(randomSample,cmap='gray')"
   ]
  },
  {
   "cell_type": "code",
   "execution_count": 79,
   "id": "05857452",
   "metadata": {},
   "outputs": [],
   "source": [
    "randomSample = randomSample.reshape((1,28,28))"
   ]
  },
  {
   "cell_type": "code",
   "execution_count": 80,
   "id": "34223fe8",
   "metadata": {},
   "outputs": [
    {
     "name": "stdout",
     "output_type": "stream",
     "text": [
      "1/1 [==============================] - 0s 58ms/step\n"
     ]
    },
    {
     "name": "stderr",
     "output_type": "stream",
     "text": [
      "2022-12-05 23:08:59.203199: I tensorflow/core/grappler/optimizers/custom_graph_optimizer_registry.cc:114] Plugin optimizer for device_type GPU is enabled.\n"
     ]
    }
   ],
   "source": [
    "prediction = model.predict(randomSample)"
   ]
  },
  {
   "cell_type": "code",
   "execution_count": 81,
   "id": "96a6cf0d",
   "metadata": {},
   "outputs": [
    {
     "name": "stdout",
     "output_type": "stream",
     "text": [
      "[[7.3780960e-08 8.6281080e-09 1.1087664e-07 2.0259408e-08 9.9969780e-01\n",
      "  1.6076835e-07 1.2135465e-07 1.5086209e-05 4.9502319e-06 2.8171547e-04]]\n"
     ]
    },
    {
     "data": {
      "text/plain": [
       "4"
      ]
     },
     "execution_count": 81,
     "metadata": {},
     "output_type": "execute_result"
    }
   ],
   "source": [
    "print(prediction)\n",
    "np.argmax(prediction)"
   ]
  },
  {
   "cell_type": "markdown",
   "id": "ea53e752",
   "metadata": {},
   "source": [
    "# Adverserial Learning Below:"
   ]
  },
  {
   "cell_type": "markdown",
   "id": "74a67deb",
   "metadata": {},
   "source": [
    "##### Now we want to manipulate the image to think that it's some other image\n",
    "To do this, instead of optimising a parameter aka minimising the oss function we do the quite opposite; essentially we're 'training' the image to match the desired result given a model"
   ]
  },
  {
   "cell_type": "markdown",
   "id": "c7f8a256",
   "metadata": {},
   "source": [
    "Explain what a gradient is:"
   ]
  },
  {
   "cell_type": "code",
   "execution_count": 82,
   "id": "11978ff2",
   "metadata": {},
   "outputs": [],
   "source": [
    "def getGradients(target, inputVal):\n",
    "    #https://www.tensorflow.org/api_docs/python/tf/convert_to_tensor\n",
    "    tensor = tf.convert_to_tensor(inputVal)\n",
    "    with tf.GradientTape() as g:\n",
    "        g.watch(tensor)\n",
    "        output = model(tensor)\n",
    "    gradients = g.batch_jacobian(output,tensor)\n",
    "    return np.squeeze(gradients.numpy()[:, target, ...])\n",
    "    "
   ]
  },
  {
   "cell_type": "code",
   "execution_count": 83,
   "id": "5792f4d0",
   "metadata": {},
   "outputs": [],
   "source": [
    "predictedVal = np.argmax(prediction)"
   ]
  },
  {
   "cell_type": "code",
   "execution_count": 85,
   "id": "148a5f1b",
   "metadata": {},
   "outputs": [
    {
     "name": "stderr",
     "output_type": "stream",
     "text": [
      "2022-12-05 23:09:11.159051: I tensorflow/core/grappler/optimizers/custom_graph_optimizer_registry.cc:114] Plugin optimizer for device_type GPU is enabled.\n"
     ]
    },
    {
     "data": {
      "text/plain": [
       "array([[-3.46395791e-06, -5.15048123e-06, -6.35560491e-06,\n",
       "        -6.87292550e-06,  2.68896883e-06,  7.46717433e-06,\n",
       "         9.41861799e-06,  1.13742526e-05,  6.92041158e-06,\n",
       "        -2.74561285e-06, -8.30945464e-06, -4.79325399e-06,\n",
       "         9.61282240e-07,  2.71939507e-06,  5.57827707e-06,\n",
       "         4.51331061e-06,  8.17117234e-06,  1.83257362e-05,\n",
       "         1.12979224e-05,  1.19541119e-05, -4.81621737e-06,\n",
       "        -1.16463052e-05, -4.33036030e-06,  0.00000000e+00,\n",
       "         0.00000000e+00,  0.00000000e+00,  0.00000000e+00,\n",
       "         0.00000000e+00],\n",
       "       [-7.95707183e-06, -1.97073496e-05, -2.15358777e-05,\n",
       "        -1.29524651e-05,  5.58773263e-06,  1.83316224e-05,\n",
       "         1.61027510e-05,  6.70984537e-06, -1.05171885e-05,\n",
       "        -3.32920572e-05, -3.59264195e-05, -1.98618491e-05,\n",
       "        -2.07066241e-05, -1.90018618e-05, -1.93022552e-05,\n",
       "        -2.20669117e-05,  5.57430269e-07,  9.72799353e-06,\n",
       "         1.12732268e-05,  1.45281274e-05,  5.75859758e-06,\n",
       "         5.97547387e-06,  2.96481244e-06,  1.93996539e-06,\n",
       "         1.56135047e-06,  0.00000000e+00,  0.00000000e+00,\n",
       "         0.00000000e+00],\n",
       "       [-4.52840777e-06, -1.09597231e-05, -1.82950043e-05,\n",
       "        -1.38619807e-05, -1.18076732e-05, -6.70030386e-06,\n",
       "        -1.14162585e-05, -3.59537844e-05, -3.99704804e-05,\n",
       "        -4.10485591e-05, -2.73361311e-05, -8.78361334e-06,\n",
       "        -1.44662681e-05, -4.33457608e-05, -6.41574370e-05,\n",
       "        -6.34672542e-05, -3.79466401e-05, -4.68164835e-05,\n",
       "        -2.46856162e-05, -5.72297040e-07,  6.58712361e-06,\n",
       "         3.00928623e-05,  2.01364383e-05,  4.90926504e-06,\n",
       "         3.57896329e-06,  0.00000000e+00,  0.00000000e+00,\n",
       "         0.00000000e+00],\n",
       "       [ 3.83236028e-07,  4.48820487e-07,  1.04699375e-05,\n",
       "         1.42635054e-05,  6.13179463e-06, -2.46643940e-05,\n",
       "        -1.48775671e-05, -4.02463411e-05, -5.94597805e-05,\n",
       "        -2.16818462e-05,  2.58805940e-05,  7.77884561e-05,\n",
       "         9.25131098e-05,  3.01166729e-05, -3.80958263e-05,\n",
       "        -5.66475428e-05, -6.86101630e-05, -8.15562962e-05,\n",
       "        -6.17996338e-05, -2.56439598e-05, -9.72356702e-06,\n",
       "         9.89469027e-06,  2.08157471e-05,  8.75393471e-06,\n",
       "         5.50516279e-06, -3.55516863e-06,  0.00000000e+00,\n",
       "         0.00000000e+00],\n",
       "       [ 7.67412621e-06,  2.61854548e-05,  4.96635257e-05,\n",
       "         4.08569431e-05,  3.79920402e-06, -9.34784748e-06,\n",
       "         7.86879980e-07, -4.69083716e-06, -9.67147935e-06,\n",
       "         1.05491481e-05,  7.90202321e-05,  2.28605626e-04,\n",
       "         2.96720886e-04,  2.04794909e-04,  9.36837823e-05,\n",
       "         5.23767594e-05, -5.57755448e-06, -3.85604726e-05,\n",
       "        -3.79120756e-05,  1.53690664e-07, -1.45853328e-05,\n",
       "        -4.22712546e-05, -4.60765659e-06,  2.49975824e-06,\n",
       "         1.61465005e-06, -4.22222774e-06,  0.00000000e+00,\n",
       "         0.00000000e+00],\n",
       "       [ 1.10643768e-05,  3.60839149e-05,  4.64844488e-05,\n",
       "         4.40540825e-05,  1.00574516e-05, -2.02696901e-05,\n",
       "        -3.19786955e-06,  3.42394924e-05,  2.88634437e-05,\n",
       "         4.57539645e-05,  9.78421667e-05,  2.60641275e-04,\n",
       "         3.23582673e-04,  1.89881146e-04,  9.80264595e-05,\n",
       "         2.21571336e-05, -5.41761256e-05, -4.96923931e-05,\n",
       "         1.62495489e-05,  7.28662635e-05,  5.96379468e-05,\n",
       "         3.57977224e-05,  4.35382535e-05,  2.41809194e-05,\n",
       "         3.48306548e-06, -4.46346249e-08,  0.00000000e+00,\n",
       "         0.00000000e+00],\n",
       "       [ 7.40532869e-06,  3.15183424e-05,  3.95233074e-05,\n",
       "         1.39541798e-05, -3.39689395e-05, -2.84368216e-05,\n",
       "        -4.95584618e-06,  4.53010762e-05,  5.75268823e-05,\n",
       "         9.03491309e-06,  4.61209311e-05,  7.42554039e-05,\n",
       "         3.74530391e-05, -5.91660573e-05, -9.21468163e-05,\n",
       "        -1.09508554e-04, -1.84392949e-04, -1.47979576e-04,\n",
       "         2.10346770e-05,  1.22326441e-04,  2.00669398e-04,\n",
       "         2.00003618e-04,  1.38305768e-04,  6.38499769e-05,\n",
       "         1.29827595e-05, -1.74584591e-06,  0.00000000e+00,\n",
       "         0.00000000e+00],\n",
       "       [-2.19977596e-06, -2.80695826e-06,  4.47924435e-07,\n",
       "        -3.34142169e-06, -3.66641834e-05, -5.41017362e-05,\n",
       "        -2.74730974e-05,  3.08684321e-07, -2.15619093e-05,\n",
       "        -4.96218381e-05, -1.11301008e-04, -1.54332840e-04,\n",
       "        -2.71541619e-04, -2.54319282e-04, -2.22285365e-04,\n",
       "        -1.77733891e-04, -2.27923752e-04, -2.31055252e-04,\n",
       "        -8.78731589e-05,  5.14444109e-05,  1.93891188e-04,\n",
       "         2.18576024e-04,  1.18596923e-04,  5.90207783e-05,\n",
       "         2.22028957e-05, -7.10718996e-06,  0.00000000e+00,\n",
       "         0.00000000e+00],\n",
       "       [-1.12782036e-05, -1.54995996e-05, -2.70401506e-05,\n",
       "        -1.28044840e-05,  9.85969018e-06, -3.50916798e-06,\n",
       "        -3.12105840e-05, -3.11209224e-05, -1.26054452e-04,\n",
       "        -1.47667277e-04, -1.59511634e-04, -1.71699168e-04,\n",
       "        -2.25855547e-04, -1.95120287e-04, -1.64369456e-04,\n",
       "        -2.01927745e-04, -2.46792450e-04, -3.03529698e-04,\n",
       "        -1.98743001e-04, -8.52976882e-05,  6.08605660e-05,\n",
       "         1.19328601e-04,  3.58970901e-05, -9.05167690e-06,\n",
       "        -2.17107245e-05, -2.10581638e-05,  0.00000000e+00,\n",
       "         0.00000000e+00],\n",
       "       [-1.34945594e-05, -2.15131950e-05, -2.58953878e-05,\n",
       "         8.45401883e-06,  8.28590146e-06,  8.97257087e-06,\n",
       "        -3.47440182e-05, -1.07631618e-04, -1.71473643e-04,\n",
       "        -1.00773548e-04, -2.76970732e-05,  4.90303319e-05,\n",
       "         4.12938316e-05, -3.81501559e-05, -1.18170392e-04,\n",
       "        -1.94452994e-04, -2.52735888e-04, -2.90936558e-04,\n",
       "        -2.19448950e-04, -8.21375506e-05, -3.21803163e-05,\n",
       "        -1.91006675e-05, -4.40654439e-05, -7.81473136e-05,\n",
       "        -3.97888907e-05, -1.84127566e-05,  0.00000000e+00,\n",
       "         0.00000000e+00],\n",
       "       [-1.71750053e-05, -3.19726387e-05, -2.22570670e-05,\n",
       "         2.21877090e-05,  3.55062803e-05,  6.88644889e-07,\n",
       "        -7.35204958e-05, -1.24781320e-04, -1.20264660e-04,\n",
       "         4.17868068e-05,  2.00234033e-04,  2.51408521e-04,\n",
       "         1.86174570e-04,  5.65281625e-05, -1.91878607e-05,\n",
       "        -1.42815945e-04, -1.29766908e-04, -1.08885404e-04,\n",
       "        -4.54386136e-05,  6.18466584e-06, -2.93313460e-05,\n",
       "        -5.24506468e-05, -5.06298966e-05, -4.91421051e-05,\n",
       "        -4.62179814e-05, -4.41773227e-06,  0.00000000e+00,\n",
       "         0.00000000e+00],\n",
       "       [-1.55065281e-05, -3.32556519e-05, -2.43992872e-05,\n",
       "        -2.39903893e-05, -4.99202324e-05, -9.34287818e-05,\n",
       "        -1.68804705e-04, -1.03090679e-04,  2.73644982e-05,\n",
       "         1.98808062e-04,  2.63536291e-04,  2.19766211e-04,\n",
       "         1.22598009e-04,  6.49562537e-08, -4.91589890e-05,\n",
       "        -5.66225135e-05,  1.33904732e-05,  6.33667078e-05,\n",
       "         4.12783265e-05,  1.57631330e-05, -4.53288376e-05,\n",
       "        -8.51696950e-06,  1.36409299e-05,  3.81133941e-06,\n",
       "         2.93177209e-07,  8.30130830e-07,  0.00000000e+00,\n",
       "         0.00000000e+00],\n",
       "       [-6.09474046e-06, -1.11571753e-05, -2.50103744e-06,\n",
       "        -1.06714660e-05, -6.77129865e-05, -1.18838594e-04,\n",
       "        -1.49939908e-04, -4.18298478e-05,  9.52257687e-05,\n",
       "         2.34572886e-04,  2.18834030e-04,  9.41725157e-05,\n",
       "        -1.80027528e-05, -7.51504922e-05, -7.47766389e-05,\n",
       "        -3.39217077e-05,  2.27316850e-05,  7.88061297e-05,\n",
       "         2.47512125e-05, -5.85446069e-05, -6.19537677e-05,\n",
       "        -4.93018342e-06,  2.50248941e-05,  1.41462988e-05,\n",
       "         3.90555033e-06,  5.16435421e-06,  0.00000000e+00,\n",
       "         0.00000000e+00],\n",
       "       [ 2.31276863e-06,  3.17169997e-06,  5.31391333e-06,\n",
       "        -2.46981404e-06, -3.38234568e-05, -4.70692976e-05,\n",
       "        -1.38184751e-05,  2.61869627e-05,  1.30827480e-04,\n",
       "         1.82008662e-04,  1.27500389e-04,  2.43527647e-05,\n",
       "        -6.19946295e-05, -5.58038919e-05, -7.27834267e-05,\n",
       "        -4.55292648e-05, -5.82454632e-05, -1.41650407e-05,\n",
       "        -3.80487909e-05, -6.56565098e-05, -6.45470864e-05,\n",
       "        -2.01772673e-05,  5.61789921e-06,  9.56283657e-06,\n",
       "         4.63915129e-08,  5.90772061e-06,  0.00000000e+00,\n",
       "         0.00000000e+00],\n",
       "       [-3.54862027e-06, -1.46277193e-06, -1.63892651e-06,\n",
       "         1.91713734e-05,  4.65007033e-05,  8.25998504e-05,\n",
       "         1.20855315e-04,  1.15137875e-04,  1.30433720e-04,\n",
       "         1.41791432e-04,  1.12815374e-04,  3.05016456e-05,\n",
       "         1.68329389e-05, -2.06931381e-05, -3.32990203e-05,\n",
       "        -7.58596361e-05, -1.03478909e-04, -7.11638713e-05,\n",
       "        -4.60783704e-05, -1.01189878e-04, -1.11668553e-04,\n",
       "        -9.83375285e-05, -5.26591284e-05, -2.50782196e-05,\n",
       "        -1.19192782e-06,  1.87177875e-07,  0.00000000e+00,\n",
       "         0.00000000e+00],\n",
       "       [-1.07646592e-05, -1.40116326e-05,  6.13095335e-06,\n",
       "         1.36972149e-05,  3.53394607e-05,  7.93614454e-05,\n",
       "         1.25405830e-04,  1.43728277e-04,  1.37995215e-04,\n",
       "         1.08412620e-04,  7.43103956e-05,  6.20211213e-05,\n",
       "         6.18007543e-05,  8.33919257e-05,  3.96595060e-05,\n",
       "         5.55045699e-05,  3.69503323e-05,  4.50701336e-05,\n",
       "         2.83972404e-05, -6.72493115e-05, -9.26902430e-05,\n",
       "        -8.04173615e-05, -2.16911176e-05, -1.36539953e-07,\n",
       "         8.31951093e-06,  9.00333362e-06,  0.00000000e+00,\n",
       "         0.00000000e+00],\n",
       "       [-3.33757316e-06,  8.32264959e-06,  2.44739731e-05,\n",
       "         2.10901471e-05, -5.92682181e-06, -5.48746448e-06,\n",
       "         7.75799854e-05,  8.89361327e-05,  6.34575408e-05,\n",
       "        -7.14053067e-06, -7.96923850e-05, -2.70043129e-05,\n",
       "         1.34934899e-05,  8.34329549e-05,  1.32932371e-04,\n",
       "         1.84797565e-04,  1.77393376e-04,  1.67019287e-04,\n",
       "         1.33250360e-04,  9.07411959e-05,  7.73626380e-05,\n",
       "         7.97096072e-05,  7.68045647e-05,  6.33171585e-05,\n",
       "         3.36098601e-05,  2.58942036e-05,  0.00000000e+00,\n",
       "         0.00000000e+00],\n",
       "       [ 4.67446534e-06,  8.54557857e-06,  2.20472430e-05,\n",
       "         8.35724586e-06, -2.06428540e-05,  8.42502857e-07,\n",
       "         3.37218517e-05,  5.51378180e-05,  3.39502149e-05,\n",
       "        -2.87647272e-05, -1.39275857e-04, -1.31687484e-04,\n",
       "        -1.08936372e-04, -4.45254227e-05,  7.08040970e-05,\n",
       "         1.65613281e-04,  1.61163116e-04,  1.77200578e-04,\n",
       "         1.99823786e-04,  2.00564959e-04,  2.10215658e-04,\n",
       "         1.95962435e-04,  1.66319092e-04,  1.04611376e-04,\n",
       "         5.77162791e-05,  1.81939140e-05,  0.00000000e+00,\n",
       "         0.00000000e+00],\n",
       "       [ 3.87209275e-06,  1.21135336e-05,  2.25288386e-05,\n",
       "         1.56711722e-05, -2.03607897e-06, -7.01897579e-06,\n",
       "        -1.04655937e-05,  1.78329337e-05,  4.30806685e-05,\n",
       "         2.51785355e-06, -1.97487243e-05, -4.70595078e-05,\n",
       "        -9.08694565e-05, -1.19389653e-04, -9.22195395e-05,\n",
       "        -3.53207943e-05,  1.12207990e-05,  4.69267579e-05,\n",
       "         6.83969338e-05,  6.97419891e-05,  8.49208300e-05,\n",
       "         9.63801431e-05,  6.33994205e-05,  3.94940726e-05,\n",
       "         2.63469301e-05, -5.45312059e-06,  0.00000000e+00,\n",
       "         0.00000000e+00],\n",
       "       [ 7.60643104e-07,  5.14849899e-06,  4.91146375e-06,\n",
       "         2.93653684e-05,  1.88051508e-05, -9.95421487e-06,\n",
       "        -3.34824654e-05, -1.10460969e-05,  4.32196430e-05,\n",
       "         9.62311169e-05,  1.68550207e-04,  1.27974010e-04,\n",
       "         3.14553799e-05, -5.26052645e-05, -8.21242429e-05,\n",
       "        -5.04734599e-05, -6.76581403e-05, -2.08902893e-05,\n",
       "        -4.86345380e-05, -7.79147304e-05, -7.73597276e-05,\n",
       "        -5.79651714e-05, -8.20428686e-05, -3.97764852e-05,\n",
       "        -2.93482049e-06, -9.74237901e-06,  0.00000000e+00,\n",
       "         0.00000000e+00],\n",
       "       [-3.64879929e-06, -1.58115699e-06,  5.45895136e-06,\n",
       "         2.40172030e-05,  2.48115775e-05,  6.73986824e-06,\n",
       "         7.32295030e-06, -2.10007920e-06,  2.84389407e-05,\n",
       "         8.90456358e-05,  1.38868345e-04,  1.50542866e-04,\n",
       "         8.48345881e-05,  4.95517052e-05,  3.55499396e-05,\n",
       "         1.51782724e-05, -3.32100990e-06, -4.02074547e-05,\n",
       "        -1.18595977e-04, -1.40845863e-04, -1.44984035e-04,\n",
       "        -1.34368689e-04, -1.01103178e-04, -4.49021281e-05,\n",
       "        -1.74670113e-05, -5.11787812e-06,  0.00000000e+00,\n",
       "         0.00000000e+00],\n",
       "       [-6.30816294e-06, -5.04333093e-06,  4.54816609e-06,\n",
       "         9.45925331e-06,  1.33555250e-05,  2.16719909e-05,\n",
       "         3.29886570e-05,  4.58366339e-05,  4.66091733e-05,\n",
       "         5.91952812e-05,  7.31470718e-05,  6.97114810e-05,\n",
       "         6.52215604e-05,  6.08741466e-05,  5.23729541e-05,\n",
       "         6.03906265e-05,  4.86698882e-05,  2.98491959e-05,\n",
       "        -6.04911802e-05, -8.35181490e-05, -8.48828786e-05,\n",
       "        -7.47040322e-05, -4.65590456e-05, -2.50603316e-05,\n",
       "        -1.24017779e-05, -4.95599170e-06,  0.00000000e+00,\n",
       "         0.00000000e+00],\n",
       "       [-2.25486858e-07,  6.22717698e-06,  1.90641811e-06,\n",
       "        -7.16400052e-07, -8.12350663e-06, -1.32650412e-05,\n",
       "         6.74862804e-06,  1.18877770e-05,  2.68031054e-05,\n",
       "         2.24471605e-05,  1.64362700e-05,  6.45773889e-06,\n",
       "         7.32934632e-06, -5.76967068e-06, -4.83239830e-07,\n",
       "        -1.46472157e-05,  3.65546148e-05,  5.43710121e-05,\n",
       "         5.65435803e-05,  1.54853515e-05, -2.25655167e-05,\n",
       "        -1.21860521e-05, -2.79996516e-06, -8.40648954e-06,\n",
       "        -2.16245280e-06, -1.58381658e-06,  0.00000000e+00,\n",
       "         0.00000000e+00],\n",
       "       [ 0.00000000e+00,  0.00000000e+00,  0.00000000e+00,\n",
       "         5.29254976e-07, -4.89710419e-06, -1.77902057e-05,\n",
       "        -3.01755972e-05, -2.69562752e-05, -2.32529637e-05,\n",
       "        -6.70506461e-06,  1.35285136e-05,  1.24973967e-05,\n",
       "         7.99272857e-06, -1.48249319e-05, -2.45947704e-05,\n",
       "        -1.21354005e-05,  2.62661870e-05,  8.68891730e-05,\n",
       "         8.52331868e-05,  5.20699614e-05,  1.20349196e-05,\n",
       "         8.79212530e-06,  1.41293981e-07, -8.59774900e-06,\n",
       "        -7.04809463e-06, -2.73766932e-06,  0.00000000e+00,\n",
       "         0.00000000e+00],\n",
       "       [ 0.00000000e+00,  0.00000000e+00,  0.00000000e+00,\n",
       "         0.00000000e+00, -4.53118082e-06, -5.57230896e-06,\n",
       "        -5.01871727e-06, -1.69580235e-05, -1.28852253e-05,\n",
       "         5.10570362e-06,  2.50131452e-05,  2.72509624e-05,\n",
       "         1.74159777e-05,  3.23794984e-06,  1.76844537e-06,\n",
       "         1.05920426e-05,  3.23795539e-05,  5.03323608e-05,\n",
       "         4.80571107e-05,  3.03134038e-05,  1.58114381e-05,\n",
       "         3.27326256e-06, -2.12764257e-06, -6.87497868e-06,\n",
       "        -6.03732087e-06,  6.57556711e-07,  0.00000000e+00,\n",
       "         0.00000000e+00],\n",
       "       [ 0.00000000e+00,  0.00000000e+00,  0.00000000e+00,\n",
       "         0.00000000e+00,  1.14795137e-06,  5.18187062e-06,\n",
       "         4.92465597e-06,  2.97417319e-06,  4.70571223e-07,\n",
       "         6.68593293e-06,  1.58332296e-05,  2.11875049e-05,\n",
       "         1.36487015e-05,  7.85773136e-06,  6.12028680e-06,\n",
       "         7.76762988e-07,  1.16829301e-06,  5.65371465e-06,\n",
       "         6.04521483e-06,  2.69000998e-06,  1.56183648e-06,\n",
       "         5.74572869e-06,  3.93777145e-06,  3.20948743e-06,\n",
       "         1.53089945e-06,  5.71501971e-07,  0.00000000e+00,\n",
       "         0.00000000e+00],\n",
       "       [ 0.00000000e+00,  0.00000000e+00,  0.00000000e+00,\n",
       "         0.00000000e+00,  0.00000000e+00,  0.00000000e+00,\n",
       "         0.00000000e+00,  0.00000000e+00,  0.00000000e+00,\n",
       "         0.00000000e+00,  0.00000000e+00,  0.00000000e+00,\n",
       "         0.00000000e+00,  0.00000000e+00,  0.00000000e+00,\n",
       "         0.00000000e+00,  0.00000000e+00,  0.00000000e+00,\n",
       "         0.00000000e+00,  0.00000000e+00,  0.00000000e+00,\n",
       "         0.00000000e+00,  0.00000000e+00,  0.00000000e+00,\n",
       "         0.00000000e+00,  0.00000000e+00,  0.00000000e+00,\n",
       "         0.00000000e+00],\n",
       "       [ 0.00000000e+00,  0.00000000e+00,  0.00000000e+00,\n",
       "         0.00000000e+00,  0.00000000e+00,  0.00000000e+00,\n",
       "         0.00000000e+00,  0.00000000e+00,  0.00000000e+00,\n",
       "         0.00000000e+00,  0.00000000e+00,  0.00000000e+00,\n",
       "         0.00000000e+00,  0.00000000e+00,  0.00000000e+00,\n",
       "         0.00000000e+00,  0.00000000e+00,  0.00000000e+00,\n",
       "         0.00000000e+00,  0.00000000e+00,  0.00000000e+00,\n",
       "         0.00000000e+00,  0.00000000e+00,  0.00000000e+00,\n",
       "         0.00000000e+00,  0.00000000e+00,  0.00000000e+00,\n",
       "         0.00000000e+00]])"
      ]
     },
     "execution_count": 85,
     "metadata": {},
     "output_type": "execute_result"
    }
   ],
   "source": [
    "getGradients(4,randomSample)"
   ]
  },
  {
   "cell_type": "code",
   "execution_count": 179,
   "id": "d6459533",
   "metadata": {},
   "outputs": [
    {
     "data": {
      "text/plain": [
       "<matplotlib.image.AxesImage at 0x3004b9b50>"
      ]
     },
     "execution_count": 179,
     "metadata": {},
     "output_type": "execute_result"
    },
    {
     "data": {
      "image/png": "[encoded data removed]",
      "text/plain": [
       "<Figure size 432x288 with 1 Axes>"
      ]
     },
     "metadata": {
      "needs_background": "light"
     },
     "output_type": "display_data"
    }
   ],
   "source": [
    "randomSample = x_test[np.random.randint(0, x_test.shape[0]), ...]\n",
    "plt.imshow(randomSample,cmap='gray')"
   ]
  },
  {
   "cell_type": "code",
   "execution_count": 180,
   "id": "4aaace36",
   "metadata": {},
   "outputs": [
    {
     "name": "stdout",
     "output_type": "stream",
     "text": [
      "1/1 [==============================] - 0s 18ms/step\n",
      "0\n"
     ]
    }
   ],
   "source": [
    "randomSample = randomSample.reshape((1,28,28))\n",
    "currentPrediction = model.predict(randomSample)\n",
    "valOfCurrentPrediction = np.argmax(currentPrediction)\n",
    "print(valOfCurrentPrediction)"
   ]
  },
  {
   "cell_type": "code",
   "execution_count": 181,
   "id": "df493fc1",
   "metadata": {},
   "outputs": [],
   "source": [
    "\n",
    "def unlearn(img):    \n",
    "    target = 3\n",
    "    while True:\n",
    "        gradients = getGradients(target,img)\n",
    "        img = img + (0.02 * gradients / np.max(gradients))\n",
    "\n",
    "        newPrediction = model.predict(img)\n",
    "        print(\"now predict \"+str(np.argmax(newPrediction)) +\" with pr \"+str(np.max(newPrediction)))\n",
    "        '''\n",
    "        if np.argmax(newPrediction) != valOfCurrentPrediction:\n",
    "            break\n",
    "        '''\n",
    "        if np.argmax(newPrediction) == target:\n",
    "            return img"
   ]
  },
  {
   "cell_type": "code",
   "execution_count": 182,
   "id": "7c2351f0",
   "metadata": {},
   "outputs": [
    {
     "name": "stdout",
     "output_type": "stream",
     "text": [
      "1/1 [==============================] - 0s 9ms/step\n"
     ]
    },
    {
     "name": "stderr",
     "output_type": "stream",
     "text": [
      "2022-12-05 23:34:09.728924: I tensorflow/core/grappler/optimizers/custom_graph_optimizer_registry.cc:114] Plugin optimizer for device_type GPU is enabled.\n"
     ]
    },
    {
     "name": "stdout",
     "output_type": "stream",
     "text": [
      "now predict 0 with pr 0.9997197\n",
      "1/1 [==============================] - 0s 10ms/step\n"
     ]
    },
    {
     "name": "stderr",
     "output_type": "stream",
     "text": [
      "2022-12-05 23:34:09.961350: I tensorflow/core/grappler/optimizers/custom_graph_optimizer_registry.cc:114] Plugin optimizer for device_type GPU is enabled.\n"
     ]
    },
    {
     "name": "stdout",
     "output_type": "stream",
     "text": [
      "now predict 0 with pr 0.99963427\n",
      "1/1 [==============================] - 0s 10ms/step\n"
     ]
    },
    {
     "name": "stderr",
     "output_type": "stream",
     "text": [
      "2022-12-05 23:34:10.212133: I tensorflow/core/grappler/optimizers/custom_graph_optimizer_registry.cc:114] Plugin optimizer for device_type GPU is enabled.\n"
     ]
    },
    {
     "name": "stdout",
     "output_type": "stream",
     "text": [
      "now predict 0 with pr 0.99952567\n",
      "1/1 [==============================] - 0s 9ms/step\n"
     ]
    },
    {
     "name": "stderr",
     "output_type": "stream",
     "text": [
      "2022-12-05 23:34:10.540144: I tensorflow/core/grappler/optimizers/custom_graph_optimizer_registry.cc:114] Plugin optimizer for device_type GPU is enabled.\n"
     ]
    },
    {
     "name": "stdout",
     "output_type": "stream",
     "text": [
      "now predict 0 with pr 0.9993827\n",
      "1/1 [==============================] - 0s 10ms/step\n"
     ]
    },
    {
     "name": "stderr",
     "output_type": "stream",
     "text": [
      "2022-12-05 23:34:10.764639: I tensorflow/core/grappler/optimizers/custom_graph_optimizer_registry.cc:114] Plugin optimizer for device_type GPU is enabled.\n"
     ]
    },
    {
     "name": "stdout",
     "output_type": "stream",
     "text": [
      "now predict 0 with pr 0.99919266\n",
      "1/1 [==============================] - 0s 9ms/step\n"
     ]
    },
    {
     "name": "stderr",
     "output_type": "stream",
     "text": [
      "2022-12-05 23:34:11.013699: I tensorflow/core/grappler/optimizers/custom_graph_optimizer_registry.cc:114] Plugin optimizer for device_type GPU is enabled.\n"
     ]
    },
    {
     "name": "stdout",
     "output_type": "stream",
     "text": [
      "now predict 0 with pr 0.99892676\n",
      "1/1 [==============================] - 0s 10ms/step\n"
     ]
    },
    {
     "name": "stderr",
     "output_type": "stream",
     "text": [
      "2022-12-05 23:34:11.258944: I tensorflow/core/grappler/optimizers/custom_graph_optimizer_registry.cc:114] Plugin optimizer for device_type GPU is enabled.\n"
     ]
    },
    {
     "name": "stdout",
     "output_type": "stream",
     "text": [
      "now predict 0 with pr 0.9985719\n",
      "1/1 [==============================] - 0s 10ms/step\n"
     ]
    },
    {
     "name": "stderr",
     "output_type": "stream",
     "text": [
      "2022-12-05 23:34:11.506199: I tensorflow/core/grappler/optimizers/custom_graph_optimizer_registry.cc:114] Plugin optimizer for device_type GPU is enabled.\n"
     ]
    },
    {
     "name": "stdout",
     "output_type": "stream",
     "text": [
      "now predict 0 with pr 0.9980629\n",
      "1/1 [==============================] - 0s 10ms/step\n"
     ]
    },
    {
     "name": "stderr",
     "output_type": "stream",
     "text": [
      "2022-12-05 23:34:11.737482: I tensorflow/core/grappler/optimizers/custom_graph_optimizer_registry.cc:114] Plugin optimizer for device_type GPU is enabled.\n"
     ]
    },
    {
     "name": "stdout",
     "output_type": "stream",
     "text": [
      "now predict 0 with pr 0.9974329\n",
      "1/1 [==============================] - 0s 10ms/step\n"
     ]
    },
    {
     "name": "stderr",
     "output_type": "stream",
     "text": [
      "2022-12-05 23:34:12.060605: I tensorflow/core/grappler/optimizers/custom_graph_optimizer_registry.cc:114] Plugin optimizer for device_type GPU is enabled.\n"
     ]
    },
    {
     "name": "stdout",
     "output_type": "stream",
     "text": [
      "now predict 0 with pr 0.99667656\n",
      "1/1 [==============================] - 0s 11ms/step\n"
     ]
    },
    {
     "name": "stderr",
     "output_type": "stream",
     "text": [
      "2022-12-05 23:34:12.313809: I tensorflow/core/grappler/optimizers/custom_graph_optimizer_registry.cc:114] Plugin optimizer for device_type GPU is enabled.\n"
     ]
    },
    {
     "name": "stdout",
     "output_type": "stream",
     "text": [
      "now predict 0 with pr 0.9956121\n",
      "1/1 [==============================] - 0s 10ms/step\n"
     ]
    },
    {
     "name": "stderr",
     "output_type": "stream",
     "text": [
      "2022-12-05 23:34:12.570172: I tensorflow/core/grappler/optimizers/custom_graph_optimizer_registry.cc:114] Plugin optimizer for device_type GPU is enabled.\n"
     ]
    },
    {
     "name": "stdout",
     "output_type": "stream",
     "text": [
      "now predict 0 with pr 0.9943395\n",
      "1/1 [==============================] - 0s 10ms/step\n"
     ]
    },
    {
     "name": "stderr",
     "output_type": "stream",
     "text": [
      "2022-12-05 23:34:12.829616: I tensorflow/core/grappler/optimizers/custom_graph_optimizer_registry.cc:114] Plugin optimizer for device_type GPU is enabled.\n"
     ]
    },
    {
     "name": "stdout",
     "output_type": "stream",
     "text": [
      "now predict 0 with pr 0.9927214\n",
      "1/1 [==============================] - 0s 11ms/step\n"
     ]
    },
    {
     "name": "stderr",
     "output_type": "stream",
     "text": [
      "2022-12-05 23:34:13.075655: I tensorflow/core/grappler/optimizers/custom_graph_optimizer_registry.cc:114] Plugin optimizer for device_type GPU is enabled.\n"
     ]
    },
    {
     "name": "stdout",
     "output_type": "stream",
     "text": [
      "now predict 0 with pr 0.99060994\n",
      "1/1 [==============================] - 0s 10ms/step\n"
     ]
    },
    {
     "name": "stderr",
     "output_type": "stream",
     "text": [
      "2022-12-05 23:34:13.382898: I tensorflow/core/grappler/optimizers/custom_graph_optimizer_registry.cc:114] Plugin optimizer for device_type GPU is enabled.\n"
     ]
    },
    {
     "name": "stdout",
     "output_type": "stream",
     "text": [
      "now predict 0 with pr 0.9878079\n",
      "1/1 [==============================] - 0s 10ms/step\n"
     ]
    },
    {
     "name": "stderr",
     "output_type": "stream",
     "text": [
      "2022-12-05 23:34:13.653588: I tensorflow/core/grappler/optimizers/custom_graph_optimizer_registry.cc:114] Plugin optimizer for device_type GPU is enabled.\n"
     ]
    },
    {
     "name": "stdout",
     "output_type": "stream",
     "text": [
      "now predict 0 with pr 0.9840937\n",
      "1/1 [==============================] - 0s 10ms/step\n"
     ]
    },
    {
     "name": "stderr",
     "output_type": "stream",
     "text": [
      "2022-12-05 23:34:13.908931: I tensorflow/core/grappler/optimizers/custom_graph_optimizer_registry.cc:114] Plugin optimizer for device_type GPU is enabled.\n"
     ]
    },
    {
     "name": "stdout",
     "output_type": "stream",
     "text": [
      "now predict 0 with pr 0.979126\n",
      "1/1 [==============================] - 0s 11ms/step\n"
     ]
    },
    {
     "name": "stderr",
     "output_type": "stream",
     "text": [
      "2022-12-05 23:34:14.148803: I tensorflow/core/grappler/optimizers/custom_graph_optimizer_registry.cc:114] Plugin optimizer for device_type GPU is enabled.\n"
     ]
    },
    {
     "name": "stdout",
     "output_type": "stream",
     "text": [
      "now predict 0 with pr 0.9722549\n",
      "1/1 [==============================] - 0s 11ms/step\n"
     ]
    },
    {
     "name": "stderr",
     "output_type": "stream",
     "text": [
      "2022-12-05 23:34:14.385021: I tensorflow/core/grappler/optimizers/custom_graph_optimizer_registry.cc:114] Plugin optimizer for device_type GPU is enabled.\n"
     ]
    },
    {
     "name": "stdout",
     "output_type": "stream",
     "text": [
      "now predict 0 with pr 0.962868\n",
      "1/1 [==============================] - 0s 10ms/step\n"
     ]
    },
    {
     "name": "stderr",
     "output_type": "stream",
     "text": [
      "2022-12-05 23:34:14.722486: I tensorflow/core/grappler/optimizers/custom_graph_optimizer_registry.cc:114] Plugin optimizer for device_type GPU is enabled.\n"
     ]
    },
    {
     "name": "stdout",
     "output_type": "stream",
     "text": [
      "now predict 0 with pr 0.9499592\n",
      "1/1 [==============================] - 0s 10ms/step\n"
     ]
    },
    {
     "name": "stderr",
     "output_type": "stream",
     "text": [
      "2022-12-05 23:34:14.963237: I tensorflow/core/grappler/optimizers/custom_graph_optimizer_registry.cc:114] Plugin optimizer for device_type GPU is enabled.\n"
     ]
    },
    {
     "name": "stdout",
     "output_type": "stream",
     "text": [
      "now predict 0 with pr 0.9320634\n",
      "1/1 [==============================] - 0s 10ms/step\n"
     ]
    },
    {
     "name": "stderr",
     "output_type": "stream",
     "text": [
      "2022-12-05 23:34:15.204169: I tensorflow/core/grappler/optimizers/custom_graph_optimizer_registry.cc:114] Plugin optimizer for device_type GPU is enabled.\n"
     ]
    },
    {
     "name": "stdout",
     "output_type": "stream",
     "text": [
      "now predict 0 with pr 0.9073612\n",
      "1/1 [==============================] - 0s 10ms/step\n"
     ]
    },
    {
     "name": "stderr",
     "output_type": "stream",
     "text": [
      "2022-12-05 23:34:15.432488: I tensorflow/core/grappler/optimizers/custom_graph_optimizer_registry.cc:114] Plugin optimizer for device_type GPU is enabled.\n"
     ]
    },
    {
     "name": "stdout",
     "output_type": "stream",
     "text": [
      "now predict 0 with pr 0.8735144\n",
      "1/1 [==============================] - 0s 10ms/step\n"
     ]
    },
    {
     "name": "stderr",
     "output_type": "stream",
     "text": [
      "2022-12-05 23:34:15.676003: I tensorflow/core/grappler/optimizers/custom_graph_optimizer_registry.cc:114] Plugin optimizer for device_type GPU is enabled.\n"
     ]
    },
    {
     "name": "stdout",
     "output_type": "stream",
     "text": [
      "now predict 0 with pr 0.8271712\n",
      "1/1 [==============================] - 0s 10ms/step\n"
     ]
    },
    {
     "name": "stderr",
     "output_type": "stream",
     "text": [
      "2022-12-05 23:34:16.013555: I tensorflow/core/grappler/optimizers/custom_graph_optimizer_registry.cc:114] Plugin optimizer for device_type GPU is enabled.\n"
     ]
    },
    {
     "name": "stdout",
     "output_type": "stream",
     "text": [
      "now predict 0 with pr 0.7656906\n",
      "1/1 [==============================] - 0s 10ms/step\n"
     ]
    },
    {
     "name": "stderr",
     "output_type": "stream",
     "text": [
      "2022-12-05 23:34:16.254212: I tensorflow/core/grappler/optimizers/custom_graph_optimizer_registry.cc:114] Plugin optimizer for device_type GPU is enabled.\n"
     ]
    },
    {
     "name": "stdout",
     "output_type": "stream",
     "text": [
      "now predict 0 with pr 0.6902839\n",
      "1/1 [==============================] - 0s 10ms/step\n"
     ]
    },
    {
     "name": "stderr",
     "output_type": "stream",
     "text": [
      "2022-12-05 23:34:16.502806: I tensorflow/core/grappler/optimizers/custom_graph_optimizer_registry.cc:114] Plugin optimizer for device_type GPU is enabled.\n"
     ]
    },
    {
     "name": "stdout",
     "output_type": "stream",
     "text": [
      "now predict 0 with pr 0.5967439\n",
      "1/1 [==============================] - 0s 10ms/step\n"
     ]
    },
    {
     "name": "stderr",
     "output_type": "stream",
     "text": [
      "2022-12-05 23:34:16.764073: I tensorflow/core/grappler/optimizers/custom_graph_optimizer_registry.cc:114] Plugin optimizer for device_type GPU is enabled.\n"
     ]
    },
    {
     "name": "stdout",
     "output_type": "stream",
     "text": [
      "now predict 0 with pr 0.48939118\n",
      "1/1 [==============================] - 0s 9ms/step\n"
     ]
    },
    {
     "name": "stderr",
     "output_type": "stream",
     "text": [
      "2022-12-05 23:34:17.015579: I tensorflow/core/grappler/optimizers/custom_graph_optimizer_registry.cc:114] Plugin optimizer for device_type GPU is enabled.\n"
     ]
    },
    {
     "name": "stdout",
     "output_type": "stream",
     "text": [
      "now predict 0 with pr 0.37765434\n",
      "1/1 [==============================] - 0s 10ms/step\n"
     ]
    },
    {
     "name": "stderr",
     "output_type": "stream",
     "text": [
      "2022-12-05 23:34:17.344039: I tensorflow/core/grappler/optimizers/custom_graph_optimizer_registry.cc:114] Plugin optimizer for device_type GPU is enabled.\n"
     ]
    },
    {
     "name": "stdout",
     "output_type": "stream",
     "text": [
      "now predict 5 with pr 0.30834746\n",
      "1/1 [==============================] - 0s 10ms/step\n",
      "now predict 3 with pr 0.42763963\n"
     ]
    },
    {
     "name": "stderr",
     "output_type": "stream",
     "text": [
      "2022-12-05 23:34:17.602861: I tensorflow/core/grappler/optimizers/custom_graph_optimizer_registry.cc:114] Plugin optimizer for device_type GPU is enabled.\n"
     ]
    }
   ],
   "source": [
    "img = randomSample\n",
    "img = unlearn(img)"
   ]
  },
  {
   "cell_type": "code",
   "execution_count": 183,
   "id": "e6879f00",
   "metadata": {},
   "outputs": [],
   "source": [
    "img = img.reshape((28,28))"
   ]
  },
  {
   "cell_type": "code",
   "execution_count": 184,
   "id": "27f68868",
   "metadata": {},
   "outputs": [
    {
     "data": {
      "text/plain": [
       "<matplotlib.image.AxesImage at 0x304e2f730>"
      ]
     },
     "execution_count": 184,
     "metadata": {},
     "output_type": "execute_result"
    },
    {
     "data": {
      "image/png": "[encoded data removed]",
      "text/plain": [
       "<Figure size 432x288 with 1 Axes>"
      ]
     },
     "metadata": {
      "needs_background": "light"
     },
     "output_type": "display_data"
    }
   ],
   "source": [
    "plt.imshow(img,cmap='gray')"
   ]
  },
  {
   "cell_type": "code",
   "execution_count": null,
   "id": "887d717a",
   "metadata": {},
   "outputs": [],
   "source": []
  }
 ],
 "metadata": {
  "kernelspec": {
   "display_name": "Python 3 (ipykernel)",
   "language": "python",
   "name": "python3"
  },
  "language_info": {
   "codemirror_mode": {
    "name": "ipython",
    "version": 3
   },
   "file_extension": ".py",
   "mimetype": "text/x-python",
   "name": "python",
   "nbconvert_exporter": "python",
   "pygments_lexer": "ipython3",
   "version": "3.9.7"
  }
 },
 "nbformat": 4,
 "nbformat_minor": 5
}
