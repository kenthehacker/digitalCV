{
 "cells": [
  {
   "cell_type": "markdown",
   "id": "a73bd756",
   "metadata": {},
   "source": [
    "## This is just me getting my feet wet in ML, classifying the MNIST dataset is a classic start to learning ML so I referenced the following link:"
   ]
  },
  {
   "cell_type": "markdown",
   "id": "455b178b",
   "metadata": {},
   "source": [
    "https://towardsdatascience.com/mnist-handwritten-digits-classification-from-scratch-using-python-numpy-b08e401c4dab"
   ]
  },
  {
   "cell_type": "code",
   "execution_count": 44,
   "id": "55078455",
   "metadata": {},
   "outputs": [],
   "source": [
    "\n",
    "import numpy as np\n",
    "import os\n",
    "import hashlib\n",
    "import requests\n",
    "import gzip\n",
    "import pandas as pd\n",
    "import matplotlib.pyplot as plt\n",
    "import threading as td\n",
    "import math"
   ]
  },
  {
   "cell_type": "code",
   "execution_count": 47,
   "id": "4ac7447f",
   "metadata": {},
   "outputs": [],
   "source": [
    "path='./'\n",
    "def fetch(url):\n",
    "    fp = os.path.join(path, hashlib.md5(url.encode('utf-8')).hexdigest())\n",
    "    if os.path.isfile(fp):\n",
    "        with open(fp, \"rb\") as f:\n",
    "            data = f.read()\n",
    "    else:\n",
    "        with open(fp, \"wb\") as f:\n",
    "            data = requests.get(url).content\n",
    "            f.write(data)\n",
    "    return np.frombuffer(gzip.decompress(data), dtype=np.uint8).copy()\n",
    "\n",
    "X = fetch(\"http://yann.lecun.com/exdb/mnist/train-images-idx3-ubyte.gz\")[0x10:].reshape((-1, 28, 28))\n",
    "Y = fetch(\"http://yann.lecun.com/exdb/mnist/train-labels-idx1-ubyte.gz\")[8:]\n",
    "X_test = fetch(\"http://yann.lecun.com/exdb/mnist/t10k-images-idx3-ubyte.gz\")[0x10:].reshape((-1, 28*28))\n",
    "Y_test = fetch(\"http://yann.lecun.com/exdb/mnist/t10k-labels-idx1-ubyte.gz\")[8:]\n",
    "rand=np.arange(60000)\n",
    "np.random.shuffle(rand)\n",
    "train_no=rand[:50000]\n",
    "\n",
    "val_no=np.setdiff1d(rand,train_no)\n",
    "\n",
    "X_train,X_val=X[train_no,:,:],X[val_no,:,:]\n",
    "Y_train,Y_val=Y[train_no],Y[val_no]"
   ]
  },
  {
   "cell_type": "code",
   "execution_count": 48,
   "id": "398d538f",
   "metadata": {},
   "outputs": [
    {
     "data": {
      "text/plain": [
       "(50000, 28, 28)"
      ]
     },
     "execution_count": 48,
     "metadata": {},
     "output_type": "execute_result"
    }
   ],
   "source": [
    "X_train.shape"
   ]
  },
  {
   "cell_type": "markdown",
   "id": "746dfbdc",
   "metadata": {},
   "source": [
    "# Sigmoid"
   ]
  },
  {
   "cell_type": "markdown",
   "id": "48838382",
   "metadata": {},
   "source": [
    "##### sigmoid function is our activation function, it basically lets us know whether or not something should be activated or not"
   ]
  },
  {
   "cell_type": "code",
   "execution_count": 32,
   "id": "fb6d88bf",
   "metadata": {},
   "outputs": [],
   "source": [
    "def sigmoid(x):\n",
    "    return 1/(np.exp(-x)+1)\n",
    "def d_sigmoid(x):\n",
    "    return (np.exp(-x))/((np.exp(-x)+1)**2)"
   ]
  },
  {
   "cell_type": "markdown",
   "id": "62552e4d",
   "metadata": {},
   "source": [
    "# Softmax"
   ]
  },
  {
   "cell_type": "code",
   "execution_count": 49,
   "id": "f4fe7cca",
   "metadata": {},
   "outputs": [],
   "source": [
    "def softmax(x):\n",
    "    e_x = np.exp(x - np.max(x))\n",
    "    return e_x / e_x.sum(axis=0) # only difference"
   ]
  },
  {
   "cell_type": "code",
   "execution_count": 50,
   "id": "1fa585ed",
   "metadata": {},
   "outputs": [],
   "source": [
    "def d_softmax(x):\n",
    "    exp_element=np.exp(x-x.max())\n",
    "    return exp_element/np.sum(exp_element,axis=0)*(1-exp_element/np.sum(exp_element,axis=0))"
   ]
  },
  {
   "cell_type": "markdown",
   "id": "6005a769",
   "metadata": {},
   "source": [
    "the above can easily be found on stackoverflow forums"
   ]
  },
  {
   "cell_type": "markdown",
   "id": "8cd0ca40",
   "metadata": {},
   "source": [
    "# Iterations"
   ]
  },
  {
   "cell_type": "code",
   "execution_count": 51,
   "id": "c3e32ca7",
   "metadata": {},
   "outputs": [],
   "source": [
    "def markResultIndex(y):\n",
    "    #if y=3 we have [0,0,0,1,0,0,0,0,0,0]\n",
    "    marked = np.zeros((len(y),10)) #makes size 10 array for each y value and marks each index value\n",
    "    for i in range(len(marked)):\n",
    "        val = y[i]\n",
    "        marked[i][val]=1\n",
    "    return marked"
   ]
  },
  {
   "cell_type": "markdown",
   "id": "1dcf96f3",
   "metadata": {},
   "source": [
    "The error is simply the difference in expected yMatrix vs the softmax array"
   ]
  },
  {
   "cell_type": "code",
   "execution_count": 52,
   "id": "66b2249f",
   "metadata": {},
   "outputs": [],
   "source": [
    "def getError(softArrays, expectedArrays, xL2):\n",
    "    return 2*(softArrays-expectedArrays)/softArrays.shape[0]*d_softmax(xL2)"
   ]
  },
  {
   "cell_type": "code",
   "execution_count": 71,
   "id": "81d4f0f9",
   "metadata": {},
   "outputs": [],
   "source": [
    "def propogate(x,y, l1, l2):\n",
    "    markedY = markResultIndex(y)\n",
    "    #SoftMax(Sigmoid(x*W+b))    \n",
    "    xL1 = x.dot(l1)\n",
    "    sigOfX = sigmoid(xL1)\n",
    "    xL2 = sigOfX.dot(l2)\n",
    "    probabilityArray = softmax(xL2)\n",
    "    \n",
    "    err = getError(probabilityArray,markedY, xL2)\n",
    "    \n",
    "    newL2 = (sigOfX.T).dot(err)\n",
    "    \n",
    "    err = ((l2).dot(err.T)).T*d_sigmoid(xL1)\n",
    "    newL1 = (x.T).dot(err)\n",
    "    return probabilityArray, newL1, newL2\n",
    "    "
   ]
  },
  {
   "cell_type": "code",
   "execution_count": 65,
   "id": "1052f204",
   "metadata": {},
   "outputs": [],
   "source": [
    "def getAccuracy(actual, yPred):\n",
    "    return (actual==yPred).mean()"
   ]
  },
  {
   "cell_type": "code",
   "execution_count": 66,
   "id": "aba25685",
   "metadata": {},
   "outputs": [],
   "source": [
    "def mse(actual, yPred):\n",
    "    diff = actual-yPred\n",
    "    diffSq = diff**2\n",
    "    return diffSq.mean()"
   ]
  },
  {
   "cell_type": "code",
   "execution_count": 67,
   "id": "9b0d30c9",
   "metadata": {},
   "outputs": [],
   "source": [
    "def sampleRandomDigits(batch):\n",
    "    randomIndexes = np.random.randint(0,X_train.shape[0],size=batch)\n",
    "    #above generates 128 random indexes\n",
    "    x = X_train[randomIndexes]\n",
    "    x = x.reshape((-1,28*28))\n",
    "    y = Y_train[randomIndexes]\n",
    "    return x,y"
   ]
  },
  {
   "cell_type": "code",
   "execution_count": 68,
   "id": "cbeed038",
   "metadata": {},
   "outputs": [],
   "source": [
    "def sgd(epoch, lr, batch, l1, l2):\n",
    "    losses = []\n",
    "    accuracies = []\n",
    "\n",
    "    for i in range(epoch):\n",
    "        x,y = sampleRandomDigits(batch)\n",
    "        out, newL1, newL2 = propogate(x,y, l1, l2)\n",
    "        \n",
    "        yPred = np.argmax(out,axis=1)\n",
    "        loss = mse(yPred,y)\n",
    "        losses.append(loss)\n",
    "        \n",
    "        #use the gradient to modify our NN weights\n",
    "        l1 = l1-lr*newL1\n",
    "        l2 = l2-lr*newL2\n",
    "        \n",
    "        currAccuracy = getAccuracy(y,yPred)\n",
    "        accuracies.append(currAccuracy)\n",
    "        if i%100 == 0:\n",
    "            print(f\"Accuracy: {currAccuracy} Loss:{loss}\")\n",
    "    return losses, accuracies"
   ]
  },
  {
   "cell_type": "markdown",
   "id": "dba7aa47",
   "metadata": {},
   "source": [
    "##### first layer will have 28^2=784 layers since image is 28x28 size last layer has 10 since 0-9"
   ]
  },
  {
   "cell_type": "code",
   "execution_count": 69,
   "id": "9b383314",
   "metadata": {},
   "outputs": [],
   "source": [
    "\n",
    "l1=np.random.uniform(-1.,1.,size=(28**2,128))/np.sqrt(128*28**2)\n",
    "l2=np.random.uniform(-1,1,size=(128,10))/np.sqrt(1280)\n"
   ]
  },
  {
   "cell_type": "code",
   "execution_count": null,
   "id": "689be957",
   "metadata": {},
   "outputs": [],
   "source": []
  },
  {
   "cell_type": "code",
   "execution_count": 70,
   "id": "5cf34ac1",
   "metadata": {},
   "outputs": [
    {
     "name": "stdout",
     "output_type": "stream",
     "text": [
      "Accuracy: 0.03125 Loss:21.828125\n",
      "Accuracy: 0.1640625 Loss:14.96875\n",
      "Accuracy: 0.359375 Loss:11.9609375\n",
      "Accuracy: 0.390625 Loss:11.2578125\n",
      "Accuracy: 0.4765625 Loss:8.390625\n",
      "Accuracy: 0.53125 Loss:10.1484375\n",
      "Accuracy: 0.5390625 Loss:8.4296875\n",
      "Accuracy: 0.671875 Loss:6.375\n",
      "Accuracy: 0.609375 Loss:6.3203125\n",
      "Accuracy: 0.5703125 Loss:7.6484375\n",
      "Accuracy: 0.6015625 Loss:7.7421875\n",
      "Accuracy: 0.6171875 Loss:7.28125\n",
      "Accuracy: 0.71875 Loss:5.9453125\n",
      "Accuracy: 0.59375 Loss:6.640625\n",
      "Accuracy: 0.703125 Loss:5.625\n",
      "Accuracy: 0.6796875 Loss:6.7890625\n",
      "Accuracy: 0.71875 Loss:5.2265625\n",
      "Accuracy: 0.703125 Loss:4.78125\n",
      "Accuracy: 0.765625 Loss:4.5390625\n",
      "Accuracy: 0.71875 Loss:5.296875\n",
      "Accuracy: 0.7109375 Loss:4.2109375\n",
      "Accuracy: 0.6796875 Loss:6.578125\n",
      "Accuracy: 0.6484375 Loss:7.15625\n",
      "Accuracy: 0.7421875 Loss:4.015625\n",
      "Accuracy: 0.7109375 Loss:4.5859375\n",
      "Accuracy: 0.6796875 Loss:5.75\n",
      "Accuracy: 0.7578125 Loss:5.171875\n",
      "Accuracy: 0.7109375 Loss:5.40625\n",
      "Accuracy: 0.7578125 Loss:5.0703125\n",
      "Accuracy: 0.640625 Loss:9.203125\n",
      "Accuracy: 0.734375 Loss:3.9765625\n",
      "Accuracy: 0.734375 Loss:5.8203125\n",
      "Accuracy: 0.75 Loss:5.625\n",
      "Accuracy: 0.7578125 Loss:4.0703125\n",
      "Accuracy: 0.78125 Loss:3.6328125\n",
      "Accuracy: 0.78125 Loss:3.8671875\n",
      "Accuracy: 0.7734375 Loss:3.953125\n",
      "Accuracy: 0.7734375 Loss:3.8828125\n",
      "Accuracy: 0.765625 Loss:4.578125\n",
      "Accuracy: 0.75 Loss:5.4140625\n",
      "Accuracy: 0.8125 Loss:3.1171875\n",
      "Accuracy: 0.75 Loss:6.0234375\n",
      "Accuracy: 0.78125 Loss:4.140625\n",
      "Accuracy: 0.8125 Loss:3.953125\n",
      "Accuracy: 0.78125 Loss:2.765625\n",
      "Accuracy: 0.75 Loss:2.640625\n",
      "Accuracy: 0.7421875 Loss:4.8203125\n",
      "Accuracy: 0.7265625 Loss:5.859375\n",
      "Accuracy: 0.75 Loss:3.8828125\n",
      "Accuracy: 0.7109375 Loss:4.15625\n"
     ]
    }
   ],
   "source": [
    "epoch = 5000\n",
    "batch = 128\n",
    "lr = 0.001\n",
    "\n",
    "losses,accuracies = sgd(epoch,lr,batch, l1,l2)"
   ]
  },
  {
   "cell_type": "code",
   "execution_count": 62,
   "id": "7bdb47ec",
   "metadata": {},
   "outputs": [
    {
     "data": {
      "text/plain": [
       "[<matplotlib.lines.Line2D at 0x289ed8040>]"
      ]
     },
     "execution_count": 62,
     "metadata": {},
     "output_type": "execute_result"
    },
    {
     "data": {
      "image/png": "[encoded data removed]",
      "text/plain": [
       "<Figure size 432x288 with 1 Axes>"
      ]
     },
     "metadata": {
      "needs_background": "light"
     },
     "output_type": "display_data"
    }
   ],
   "source": [
    "plt.plot(losses)"
   ]
  },
  {
   "cell_type": "code",
   "execution_count": 63,
   "id": "52f3cada",
   "metadata": {},
   "outputs": [
    {
     "data": {
      "text/plain": [
       "[<matplotlib.lines.Line2D at 0x28fb363a0>]"
      ]
     },
     "execution_count": 63,
     "metadata": {},
     "output_type": "execute_result"
    },
    {
     "data": {
      "image/png": "[encoded data removed]",
      "text/plain": [
       "<Figure size 432x288 with 1 Axes>"
      ]
     },
     "metadata": {
      "needs_background": "light"
     },
     "output_type": "display_data"
    }
   ],
   "source": [
    "plt.plot(accuracies)"
   ]
  },
  {
   "cell_type": "markdown",
   "id": "a6543ebb",
   "metadata": {},
   "source": [
    "We observe that our losses fall closer to 0, which means that we are learning something. "
   ]
  },
  {
   "cell_type": "code",
   "execution_count": null,
   "id": "485fd52b",
   "metadata": {},
   "outputs": [],
   "source": []
  }
 ],
 "metadata": {
  "kernelspec": {
   "display_name": "Python 3 (ipykernel)",
   "language": "python",
   "name": "python3"
  },
  "language_info": {
   "codemirror_mode": {
    "name": "ipython",
    "version": 3
   },
   "file_extension": ".py",
   "mimetype": "text/x-python",
   "name": "python",
   "nbconvert_exporter": "python",
   "pygments_lexer": "ipython3",
   "version": "3.9.7"
  }
 },
 "nbformat": 4,
 "nbformat_minor": 5
}
